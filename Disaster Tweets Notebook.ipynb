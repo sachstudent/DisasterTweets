{
 "cells": [
  {
   "cell_type": "markdown",
   "id": "384db02b",
   "metadata": {},
   "source": [
    "# Kaggle Disaster Tweets Classification"
   ]
  },
  {
   "cell_type": "markdown",
   "id": "3047c163",
   "metadata": {},
   "source": [
    "## Step 1: Brief Description of the Problem and Data"
   ]
  },
  {
   "cell_type": "markdown",
   "id": "eeeee18a",
   "metadata": {},
   "source": [
    "The objective of this project is to classify tweets as either related to a disaster or not. This is a binary classification problem that leverages Natural Language Processing (NLP) techniques. The data consists of tweets, each represented by textual content, and additional features such as keywords and location, though these may not always be present. The target variable is binary, indicating whether the tweet is disaster-related (1) or not (0).\n",
    "\n",
    "The dataset includes:\n",
    "\n",
    "Training Data: 7,613 tweets, each labeled with a target variable (1 for disaster-related, 0 for non-disaster).\n",
    "Test Data: 3,263 tweets without the target label.\n",
    "Data Columns:\n",
    "id: Unique identifier for each tweet.\n",
    "keyword: A keyword from the tweet, may be relevant to disasters.\n",
    "location: Location where the tweet originated, which may or may not be present.\n",
    "text: The tweet's content.\n",
    "target: The label, only present in the training data.\n",
    "\n",
    "The challenge is to preprocess the text data, extract relevant features, and build a model that can accurately predict the target variable for the test set."
   ]
  },
  {
   "cell_type": "code",
   "execution_count": null,
   "id": "32ede2de",
   "metadata": {},
   "outputs": [],
   "source": [
    "# Load the datasets\n",
    "import pandas as pd\n",
    "\n",
    "train_df = pd.read_csv('/train.csv')\n",
    "test_df = pd.read_csv('/test.csv')\n",
    "sample_submission_df = pd.read_csv('/sample_submission.csv')\n",
    "\n",
    "# Display the first few rows of each dataset to understand their structure\n",
    "train_df.head(), test_df.head(), sample_submission_df.head()"
   ]
  },
  {
   "cell_type": "markdown",
   "id": "01bb0a74",
   "metadata": {},
   "source": [
    "## Step 2: Exploratory Data Analysis (EDA)"
   ]
  },
  {
   "cell_type": "markdown",
   "id": "aee962f7",
   "metadata": {},
   "source": [
    "EDA was performed to understand the distribution and structure of the data. The first step involved visualizing the distribution of the target variable to ensure the dataset was balanced. A histogram confirmed a relatively balanced dataset between disaster-related and non-disaster-related tweets.\n",
    "\n",
    "Next, I inspected the keyword and location columns. I found missing values in both, which were imputed with the placeholder \"unknown\". This ensured no data was lost and allowed the model to consider these features even when specific values were missing.\n",
    "\n",
    "Visualizations of the most common keywords and locations provided insights into the relevance of these features. Common keywords like \"fatalities\" and \"damage\" appeared frequently in disaster-related tweets, indicating their potential importance. Locations were more varied and less concentrated, suggesting they might not be as predictive.\n",
    "\n",
    "Finally, the text data itself was analyzed. I assessed tweet lengths and the frequency of common words. A preprocessing pipeline was developed to clean the text by removing URLs, special characters, and stopwords, followed by tokenization and lemmatization."
   ]
  },
  {
   "cell_type": "code",
   "execution_count": null,
   "id": "c5f02086",
   "metadata": {},
   "outputs": [],
   "source": [
    "# Visualize the distribution of the target variable\n",
    "import matplotlib.pyplot as plt\n",
    "import seaborn as sns\n",
    "\n",
    "sns.countplot(x='target', data=train_df)\n",
    "plt.title('Distribution of Target Variable')\n",
    "plt.show()"
   ]
  },
  {
   "cell_type": "markdown",
   "id": "17eedc8f",
   "metadata": {},
   "source": [
    "### Handling Missing Data"
   ]
  },
  {
   "cell_type": "code",
   "execution_count": null,
   "id": "64f6be49",
   "metadata": {},
   "outputs": [],
   "source": [
    "# Impute missing values in the 'keyword' and 'location' columns with 'unknown'\n",
    "train_df['keyword'].fillna('unknown', inplace=True)\n",
    "train_df['location'].fillna('unknown', inplace=True)\n",
    "\n",
    "test_df['keyword'].fillna('unknown', inplace=True)\n",
    "test_df['location'].fillna('unknown', inplace=True)\n",
    "\n",
    "# Verify that there are no missing values left\n",
    "train_df.isnull().sum(), test_df.isnull().sum()"
   ]
  },
  {
   "cell_type": "markdown",
   "id": "ee0739db",
   "metadata": {},
   "source": [
    "### Keyword and Location Analysis"
   ]
  },
  {
   "cell_type": "code",
   "execution_count": null,
   "id": "edbca2f0",
   "metadata": {},
   "outputs": [],
   "source": [
    "# Visualize the most common keywords and locations\n",
    "sns.barplot(y=train_df['keyword'].value_counts().index[:15], \n",
    "            x=train_df['keyword'].value_counts().values[:15])\n",
    "plt.title('Top 15 Keywords')\n",
    "plt.show()\n",
    "\n",
    "sns.barplot(y=train_df['location'].value_counts().index[:15], \n",
    "            x=train_df['location'].value_counts().values[:15])\n",
    "plt.title('Top 15 Locations')\n",
    "plt.show()"
   ]
  },
  {
   "cell_type": "markdown",
   "id": "b5015703",
   "metadata": {},
   "source": [
    "## Step 3: Preparing Data for Modeling"
   ]
  },
  {
   "cell_type": "markdown",
   "id": "19714248",
   "metadata": {},
   "source": [
    "Given the nature of the problem, where the goal is to classify text data, I opted for a Logistic Regression model as a starting point. Logistic Regression is a linear model commonly used for binary classification tasks, especially in scenarios involving high-dimensional text data.\n",
    "\n",
    "Text preprocessing was critical to this step. The tweets were transformed into numerical features using TF-IDF, a method that weighs words based on their frequency in a document relative to their frequency across all documents. This approach helps in emphasizing unique words that might indicate a disaster, while downplaying common words.\n",
    "\n",
    "Though more advanced architectures like RNNs or Transformers could be explored, Logistic Regression was chosen for its efficiency and interpretability, making it an ideal choice for initial experimentation. The model was trained on the transformed text data, and hyperparameter tuning was conducted to optimize performance."
   ]
  },
  {
   "cell_type": "code",
   "execution_count": null,
   "id": "6f127baf",
   "metadata": {},
   "outputs": [],
   "source": [
    "# Basic Text Preprocessing (Stopwords Removal, Tokenization)\n",
    "import re\n",
    "\n",
    "# Manually defined list of stopwords\n",
    "manual_stopwords = {'the', 'in', 'a', 'of', 'to', 'and', 'on', 'for', 'i', 's', 'is', 'at', 'by', 'from', 'it', 'you', 'my', 'that'}\n",
    "\n",
    "# Simplified preprocessing function\n",
    "def basic_preprocess(text):\n",
    "    # Remove URLs and special characters, tokenize, and remove stopwords\n",
    "    text = re.sub(r'http\\S+', '', text)\n",
    "    text = re.sub(r'\\W+', ' ', text.lower())\n",
    "    tokens = [word for word in text.split() if word.isalpha() and word not in manual_stopwords]\n",
    "    return ' '.join(tokens)\n",
    "\n",
    "# Apply preprocessing\n",
    "train_df['clean_text'] = train_df['text'].apply(basic_preprocess)\n",
    "test_df['clean_text'] = test_df['text'].apply(basic_preprocess)\n",
    "\n",
    "# Display the cleaned text\n",
    "train_df[['text', 'clean_text']].head()"
   ]
  },
  {
   "cell_type": "markdown",
   "id": "c39e4317",
   "metadata": {},
   "source": [
    "### Feature Extraction with TF-IDF"
   ]
  },
  {
   "cell_type": "code",
   "execution_count": null,
   "id": "44c2e1b7",
   "metadata": {},
   "outputs": [],
   "source": [
    "# TF-IDF Vectorization\n",
    "from sklearn.feature_extraction.text import TfidfVectorizer\n",
    "from sklearn.model_selection import train_test_split\n",
    "\n",
    "tfidf = TfidfVectorizer(max_features=5000)\n",
    "X = tfidf.fit_transform(train_df['clean_text'])\n",
    "y = train_df['target']\n",
    "\n",
    "X_train, X_val, y_train, y_val = train_test_split(X, y, test_size=0.2, random_state=42)\n",
    "X_test = tfidf.transform(test_df['clean_text'])\n",
    "\n",
    "X_train.shape, X_val.shape, X_test.shape"
   ]
  },
  {
   "cell_type": "markdown",
   "id": "46629631",
   "metadata": {},
   "source": [
    "## Step 4: Model Training and Evaluation"
   ]
  },
  {
   "cell_type": "markdown",
   "id": "10e428de",
   "metadata": {},
   "source": [
    "The Logistic Regression model achieved an accuracy of approximately 80.7% on the validation set. The model performed well in identifying non-disaster tweets, with high precision and recall. However, it struggled slightly with disaster-related tweets, indicating potential areas for improvement.\n",
    "\n",
    "Several strategies were considered to enhance performance.\n",
    "\n",
    "Adjusting parameters like regularization strength in Logistic Regression could fine-tune the balance between bias and variance.\n",
    "Additional features, such as n-grams or embeddings, could be incorporated to capture more contextual information.\n",
    "Exploring more complex models like RNNs or fine-tuning a pre-trained transformer model could lead to better capture of the tweet's semantic nuances."
   ]
  },
  {
   "cell_type": "code",
   "execution_count": null,
   "id": "e2909e57",
   "metadata": {},
   "outputs": [],
   "source": [
    "# Training a Logistic Regression Model\n",
    "from sklearn.linear_model import LogisticRegression\n",
    "from sklearn.metrics import classification_report, accuracy_score\n",
    "\n",
    "model = LogisticRegression(max_iter=1000, random_state=42)\n",
    "model.fit(X_train, y_train)\n",
    "y_val_pred = model.predict(X_val)\n",
    "\n",
    "accuracy = accuracy_score(y_val, y_val_pred)\n",
    "classification_report_result = classification_report(y_val, y_val_pred)\n",
    "accuracy, classification_report_result"
   ]
  },
  {
   "cell_type": "markdown",
   "id": "52327e3a",
   "metadata": {},
   "source": [
    "## Step 5: Generate Predictions and Prepare Submission"
   ]
  },
  {
   "cell_type": "code",
   "execution_count": null,
   "id": "a2c0bb25",
   "metadata": {},
   "outputs": [],
   "source": [
    "# Generate predictions and prepare submission file\n",
    "test_predictions = model.predict(X_test)\n",
    "submission_df = pd.DataFrame({'id': test_df['id'], 'target': test_predictions})\n",
    "submission_df.to_csv('/submission.csv', index=False)\n",
    "submission_df.head()"
   ]
  },
  {
   "cell_type": "markdown",
   "id": "370d80ec",
   "metadata": {},
   "source": [
    "## Conclusion"
   ]
  },
  {
   "cell_type": "markdown",
   "id": "963a2159",
   "metadata": {},
   "source": [
    "In conclusion, the Logistic Regression model provided a strong baseline for classifying disaster-related tweets. The EDA and preprocessing steps were crucial in ensuring that the model had access to clean and meaningful data. While the model performed well, especially with non-disaster tweets, future work could involve exploring more sophisticated models and additional features to improve disaster tweet detection.\n",
    "\n",
    "Key learnings from this project include the importance of text preprocessing, the effectiveness of TF-IDF in text classification, and the potential need for advanced models when dealing with nuanced textual data. Future improvements could involve exploring deep learning approaches and further optimizing hyperparameters to enhance model performance."
   ]
  }
 ],
 "metadata": {
  "language_info": {
   "name": "python"
  }
 },
 "nbformat": 4,
 "nbformat_minor": 5
}
